{
 "cells": [
  {
   "cell_type": "code",
   "execution_count": 35,
   "id": "c15e1045",
   "metadata": {},
   "outputs": [],
   "source": [
    "import pandas as pd\n",
    "import numpy as np\n",
    "import matplotlib.pyplot as plt\n",
    "import seaborn as sns\n",
    "\n",
    "# ========================================\n",
    "# 1. LEER LOS ARCHIVOS\n",
    "# ========================================\n",
    "\n",
    "# Test data (CSV)\n",
    "test_df = pd.read_csv(r'data/raw/test.csv')"
   ]
  },
  {
   "cell_type": "code",
   "execution_count": 36,
   "id": "f3fd51e3",
   "metadata": {},
   "outputs": [
    {
     "name": "stdout",
     "output_type": "stream",
     "text": [
      "\n",
      " VERIFICACIÓN DE VALORES FALTANTES\n",
      "=============================================\n",
      " TEST DATA:\n",
      "management    0\n",
      "group         0\n",
      "htls          0\n",
      "client_id     0\n",
      "dtype: int64\n",
      "No hay valores faltantes en test data\n"
     ]
    }
   ],
   "source": [
    "# ========================================\n",
    "# VERIFICACIÓN DE VALORES FALTANTES\n",
    "# ========================================\n",
    "\n",
    "print(\"\\n VERIFICACIÓN DE VALORES FALTANTES\")\n",
    "print(\"=\"*45)\n",
    "\n",
    "# TEST DATA\n",
    "print(\" TEST DATA:\")\n",
    "missing_test = test_df.isnull().sum()\n",
    "print(missing_test)\n",
    "if missing_test.sum() == 0:\n",
    "    print(\"No hay valores faltantes en test data\")\n",
    "else:\n",
    "    print(\"Valores faltantes encontrados:\")\n",
    "    print(f\"  Total celdas faltantes: {missing_test.sum()}\")\n",
    "    print(f\"  Porcentaje: {(missing_test.sum() / test_df.size) * 100:.2f}%\")"
   ]
  },
  {
   "cell_type": "code",
   "execution_count": 37,
   "id": "18d684c5",
   "metadata": {},
   "outputs": [
    {
     "name": "stdout",
     "output_type": "stream",
     "text": [
      "\n",
      " VERIFICACIÓN DE DUPLICADOS\n",
      "========================================\n",
      " TEST DATA:\n",
      "  - Total filas: 10000\n",
      "  - client_id únicos: 10000\n",
      "  - Duplicados en client_id: 0\n",
      "No hay duplicados en client_id (test data)\n"
     ]
    }
   ],
   "source": [
    "# ========================================\n",
    "# VERIFICACIÓN DE DUPLICADOS\n",
    "# ========================================\n",
    "\n",
    "print(\"\\n VERIFICACIÓN DE DUPLICADOS\")\n",
    "print(\"=\"*40)\n",
    "\n",
    "# TEST DATA\n",
    "print(\" TEST DATA:\")\n",
    "print(f\"  - Total filas: {len(test_df)}\")\n",
    "print(f\"  - client_id únicos: {test_df['client_id'].nunique()}\")\n",
    "print(f\"  - Duplicados en client_id: {len(test_df) - test_df['client_id'].nunique()}\")\n",
    "\n",
    "if test_df['client_id'].duplicated().any():\n",
    "    print(\" DUPLICADOS ENCONTRADOS en test data:\")\n",
    "    duplicados_test = test_df[test_df['client_id'].duplicated(keep=False)]\n",
    "    print(duplicados_test.sort_values('client_id'))\n",
    "else:\n",
    "    print(\"No hay duplicados en client_id (test data)\")"
   ]
  },
  {
   "cell_type": "code",
   "execution_count": 38,
   "id": "2256d7a4",
   "metadata": {},
   "outputs": [
    {
     "name": "stdout",
     "output_type": "stream",
     "text": [
      "\n",
      " VERIFICACIÓN DE TIPOS DE DATOS\n",
      "========================================\n",
      " TEST DATA:\n",
      "management     object\n",
      "group          object\n",
      "htls          float64\n",
      "client_id       int64\n",
      "dtype: object\n"
     ]
    }
   ],
   "source": [
    "# VERIFICACIÓN DE TIPOS DE DATOS\n",
    "# ========================================\n",
    "\n",
    "print(\"\\n VERIFICACIÓN DE TIPOS DE DATOS\")\n",
    "print(\"=\"*40)\n",
    "\n",
    "print(\" TEST DATA:\")\n",
    "print(test_df.dtypes)"
   ]
  },
  {
   "cell_type": "code",
   "execution_count": 39,
   "id": "acba8761",
   "metadata": {},
   "outputs": [
    {
     "name": "stdout",
     "output_type": "stream",
     "text": [
      "VERIFICACIÓN DE VALORES ÚNICOS\n",
      "========================================\n",
      "TEST DATA - Variables categóricas:\n",
      "  management: ['A', 'B', 'C']\n",
      "  group: ['Control', 'Test']\n"
     ]
    }
   ],
   "source": [
    "# ========================================\n",
    "print(\"VERIFICACIÓN DE VALORES ÚNICOS\")\n",
    "print(\"=\"*40)\n",
    "\n",
    "# Verificar si hay valores extraños en variables categóricas\n",
    "print(\"TEST DATA - Variables categóricas:\")\n",
    "print(f\"  management: {sorted(test_df['management'].unique())}\")\n",
    "print(f\"  group: {sorted(test_df['group'].unique())}\")\n",
    "\n"
   ]
  },
  {
   "cell_type": "code",
   "execution_count": 40,
   "id": "bab0e6be",
   "metadata": {},
   "outputs": [
    {
     "name": "stdout",
     "output_type": "stream",
     "text": [
      "\n",
      " TEST DATA - RESUMEN ESTADÍSTICO HTLS:\n",
      "=============================================\n",
      " Estadísticas descriptivas:\n",
      "  Count:         10000\n",
      "  Mean:          62.67\n",
      "  Std:          143.94\n",
      "  Min:            0.02\n",
      "  25%:           14.07\n",
      "  50%:           30.04\n",
      "  75%:           62.13\n",
      "  Max:         6850.77\n",
      "\n",
      " Estadísticas adicionales:\n",
      "  Skewness:       16.204\n",
      "  Kurtosis:      556.926\n",
      "  Range:         6850.75\n",
      "  IQR:             48.06\n",
      "  CV (%):          229.7\n",
      "\n",
      " Verificaciones adicionales:\n",
      "  Valores negativos:       0\n",
      "  Valores cero:            0\n",
      "  Valores > Q3+1.5*IQR:  921\n",
      "\n",
      " Percentiles extremos:\n",
      "   1.0%:            1.12\n",
      "   5.0%:            3.56\n",
      "  10.0%:            6.23\n",
      "  90.0%:          125.49\n",
      "  95.0%:          202.43\n",
      "  99.0%:          584.56\n"
     ]
    }
   ],
   "source": [
    "# ========================================\n",
    "# RESUMEN ESTADÍSTICO DE HTLS\n",
    "# ========================================\n",
    "\n",
    "print(f\"\\n TEST DATA - RESUMEN ESTADÍSTICO HTLS:\")\n",
    "print(\"=\"*45)\n",
    "\n",
    "# Estadísticas descriptivas básicas\n",
    "htls_stats = test_df['htls'].describe()\n",
    "print(\" Estadísticas descriptivas:\")\n",
    "print(f\"  Count:    {htls_stats['count']:>10.0f}\")\n",
    "print(f\"  Mean:     {htls_stats['mean']:>10.2f}\")\n",
    "print(f\"  Std:      {htls_stats['std']:>10.2f}\")\n",
    "print(f\"  Min:      {htls_stats['min']:>10.2f}\")\n",
    "print(f\"  25%:      {htls_stats['25%']:>10.2f}\")\n",
    "print(f\"  50%:      {htls_stats['50%']:>10.2f}\")\n",
    "print(f\"  75%:      {htls_stats['75%']:>10.2f}\")\n",
    "print(f\"  Max:      {htls_stats['max']:>10.2f}\")\n",
    "\n",
    "# Estadísticas adicionales\n",
    "print(f\"\\n Estadísticas adicionales:\")\n",
    "print(f\"  Skewness:     {test_df['htls'].skew():>8.3f}\")\n",
    "print(f\"  Kurtosis:     {test_df['htls'].kurtosis():>8.3f}\")\n",
    "print(f\"  Range:        {htls_stats['max'] - htls_stats['min']:>8.2f}\")\n",
    "print(f\"  IQR:          {htls_stats['75%'] - htls_stats['25%']:>8.2f}\")\n",
    "print(f\"  CV (%):       {(htls_stats['std']/htls_stats['mean'])*100:>8.1f}\")\n",
    "\n",
    "# Verificaciones adicionales\n",
    "print(f\"\\n Verificaciones adicionales:\")\n",
    "print(f\"  Valores negativos:  {(test_df['htls'] < 0).sum():>6}\")\n",
    "print(f\"  Valores cero:       {(test_df['htls'] == 0).sum():>6}\")\n",
    "print(f\"  Valores > Q3+1.5*IQR: {(test_df['htls'] > htls_stats['75%'] + 1.5*(htls_stats['75%']-htls_stats['25%'])).sum():>4}\")\n",
    "\n",
    "# Percentiles adicionales \n",
    "percentiles = [0.01, 0.05, 0.10, 0.90, 0.95, 0.99]\n",
    "print(f\"\\n Percentiles extremos:\")\n",
    "for p in percentiles:\n",
    "    value = test_df['htls'].quantile(p)\n",
    "    print(f\"  {p*100:4.1f}%:      {value:>10.2f}\")"
   ]
  },
  {
   "cell_type": "markdown",
   "id": "af66a90f",
   "metadata": {},
   "source": [
    "*Resumen del EDA*\n",
    "- La variable HTLS presenta una distribución extremadamente asimétrica (skewness = 16.2) con alta variabilidad (CV = 229.7%) y 921 outliers, violando severamente los supuestos de normalidad y homoscedasticidad requeridos para ANOVA. La ausencia de valores negativos o cero permite implementar transformación logarítmica como estrategia correctiva obligatoria. Decisión: Proceder con log(HTLS) para el análisis, validando posteriormente los supuestos mediante pruebas de normalidad y homoscedasticidad"
   ]
  }
 ],
 "metadata": {
  "kernelspec": {
   "display_name": "env",
   "language": "python",
   "name": "python3"
  },
  "language_info": {
   "codemirror_mode": {
    "name": "ipython",
    "version": 3
   },
   "file_extension": ".py",
   "mimetype": "text/x-python",
   "name": "python",
   "nbconvert_exporter": "python",
   "pygments_lexer": "ipython3",
   "version": "3.11.9"
  }
 },
 "nbformat": 4,
 "nbformat_minor": 5
}
